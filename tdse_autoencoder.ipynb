{
  "nbformat": 4,
  "nbformat_minor": 0,
  "metadata": {
    "colab": {
      "name": "tdse_autoencoder.ipynb",
      "provenance": [],
      "collapsed_sections": [
        "oH4b3aaGabxv",
        "ezGtu0OjwAjH",
        "QtMuCwjz0Jfo",
        "uA1b3eq4102K",
        "agpC1IRhHymQ",
        "mYnV03kq3Iu4",
        "d6f4FpWW37J2",
        "kLC4GdGEJ7Zb",
        "tHAx6AaIvYzV",
        "m64VL92G4kby",
        "k3huTjKDc3M0"
      ]
    },
    "kernelspec": {
      "name": "python3",
      "display_name": "Python 3"
    }
  },
  "cells": [
    {
      "cell_type": "markdown",
      "metadata": {
        "id": "hgyPCSMVT4dE"
      },
      "source": [
        "# M.Lytova, M.Spanner, I.Tamblyn. *Deep learning and high harmonic generation* (2020)\n",
        "## Codes for Section IV.C : *Latent space visualization for VAE*\n",
        "\n",
        "### see also (for beta=1) https://github.com/emnajaoua/beta_variational_autoencoders/blob/master/disentangled_vae%20(1).ipynb "
      ]
    },
    {
      "cell_type": "markdown",
      "metadata": {
        "id": "oH4b3aaGabxv"
      },
      "source": [
        "##Headers and constants"
      ]
    },
    {
      "cell_type": "code",
      "metadata": {
        "id": "JTQE-2nzHKPj"
      },
      "source": [
        "from google.colab import files\n",
        "import numpy as np\n",
        "import tensorflow as tf\n",
        "from keras.layers import Input, Dense, Dropout, Lambda\n",
        "from keras.layers import Conv1D, MaxPooling1D, UpSampling1D, Flatten, Reshape\n",
        "from keras.models import Model\n",
        "from keras.optimizers import Nadam, Adam\n",
        "from tensorflow.keras import initializers\n",
        "from keras import objectives\n",
        "from keras.losses import mean_squared_error\n",
        "from keras.callbacks import TensorBoard\n",
        "from keras import backend as K\n",
        "import argparse\n",
        "import matplotlib.pyplot as plt\n",
        "import time"
      ],
      "execution_count": null,
      "outputs": []
    },
    {
      "cell_type": "code",
      "metadata": {
        "id": "2r-mi7kh89JP"
      },
      "source": [
        "PI = 3.14159265359\n",
        "\n",
        "t_n_points = 4096        # number of nodes in time\n",
        "t_n = np.linspace(0, 800, t_n_points)/41.341   # grid in time, Tmax = 800 a.u. = 19.35 fs\n",
        "\n",
        "# VAE parameters\n",
        "batch_size = 32       \n",
        "latent_dim = 2\n",
        "epsilon_std = 0.01\n",
        "\n",
        "n_train = batch_size * 600   # training set size\n",
        "n_test = batch_size * 25     # testing set size"
      ],
      "execution_count": null,
      "outputs": []
    },
    {
      "cell_type": "markdown",
      "metadata": {
        "id": "ezGtu0OjwAjH"
      },
      "source": [
        "##Loading a training set"
      ]
    },
    {
      "cell_type": "code",
      "metadata": {
        "id": "HhJPHsfMYcNf"
      },
      "source": [
        "param_train = np.zeros((n_train, 3))\n",
        "path2param = f\"/hhg_ThI/param.dat\"\n",
        "param_train = np.loadtxt(path2param, delimiter = \",\", max_rows = n_train) "
      ],
      "execution_count": null,
      "outputs": []
    },
    {
      "cell_type": "code",
      "metadata": {
        "id": "etzDFbe8A0p9"
      },
      "source": [
        "y_train = np.zeros((n_train, t_n_points))\n",
        "path2load0 = f\"/hhg_ThI/hhg\"\n",
        "\n",
        "tic = time.perf_counter()\n",
        "\n",
        "for i in range(n_train): \n",
        "    path2load = path2load0 + str(i+1) + '.dat'    \n",
        "    load_data = np.loadtxt(path2load)\n",
        "    y_train[i] = load_data[0:t_n_points] * np.sin(PI*t_n/Tmax) \n",
        "    if (round(i/1000)==i/1000):\n",
        "        print(i)        \n",
        "\n",
        "toc = time.perf_counter()\n",
        "print(f\"Training set preparation time {toc - tic:0.4f} seconds\")   "
      ],
      "execution_count": null,
      "outputs": []
    },
    {
      "cell_type": "code",
      "metadata": {
        "id": "hJXdG-BnVjUJ"
      },
      "source": [
        "def plot_train_example(i):\n",
        "    plt.figure(figsize=(12,4), constrained_layout=False)    \n",
        "    plt.plot(t_n, y_train[i], color='green')\n",
        "    plt.title('theta = ' + str(round(param_train[i,0]*180/PI,2)) + \", I = \" + str(round((param_train[i,1]/5.338027e-2)**2,2)) + \"e14 W/cm^2, R = 2 a.u.\", fontsize=16)\n",
        "    plt.xlabel('$t$', fontsize=14)\n",
        "    plt.ylabel('$y(t)$', fontsize=14)\n",
        "    plt.xticks(np.arange(0, Tmax, 2.0))\n",
        "    plt.grid()    \n",
        "    plt.show() \n",
        "    plt.close()"
      ],
      "execution_count": null,
      "outputs": []
    },
    {
      "cell_type": "markdown",
      "metadata": {
        "id": "sd-YPJ3jVZuc"
      },
      "source": [
        "### Drawing of a randomly chosen $d_k(t)$"
      ]
    },
    {
      "cell_type": "code",
      "metadata": {
        "id": "H1JYBzPLWWUP"
      },
      "source": [
        "i_show = np.random.randint(0, n_train-1)\n",
        "plot_train_example(i_show)"
      ],
      "execution_count": null,
      "outputs": []
    },
    {
      "cell_type": "markdown",
      "metadata": {
        "id": "QtMuCwjz0Jfo"
      },
      "source": [
        "##Loading a testing set"
      ]
    },
    {
      "cell_type": "code",
      "metadata": {
        "id": "wAJh4b3NbY63"
      },
      "source": [
        "param_test = np.zeros((n_test, 3))\n",
        "path2param = f\"/hhg_ThI/param.dat\"\n",
        "param_test = np.loadtxt(path2param, delimiter = \",\", skiprows = n_train, max_rows = n_test) "
      ],
      "execution_count": null,
      "outputs": []
    },
    {
      "cell_type": "code",
      "metadata": {
        "id": "-gbEt-EtcEUp"
      },
      "source": [
        "y_test = np.zeros((n_test, t_n_points))\n",
        "path2load0 = f\"/hhg_ThI/hhg\"\n",
        "\n",
        "for i in range(n_test): \n",
        "    path2load = path2load0 + str(i+1+n_train) + '.dat'    \n",
        "    load_data = np.loadtxt(path2load)\n",
        "    y_test[i] = load_data[0:t_n_points] * np.sin(PI*t_n/Tmax)     "
      ],
      "execution_count": null,
      "outputs": []
    },
    {
      "cell_type": "markdown",
      "metadata": {
        "id": "uA1b3eq4102K"
      },
      "source": [
        "##Normalizing before trainig"
      ]
    },
    {
      "cell_type": "code",
      "metadata": {
        "id": "p3qAooRD14WC"
      },
      "source": [
        "max_E0 = np.amax(param_train[:,1])\n",
        "min_E0 = np.amin(param_train[:,1])\n",
        "param_train_norm = (param_train-[0, min_E0])/[PI/2, (max_E0-min_E0)]\n",
        "param_test_norm = (param_test-[0, min_E0])/[PI/2, (max_E0-min_E0)]\n",
        "y_train_max = np.amax(abs(y_train))\n",
        "y_test_max = np.amax(abs(y_test))\n",
        "y_max = max(y_train_max, y_test_max)\n",
        "y_train_norm = y_train/y_max\n",
        "y_test_norm = y_test/y_max"
      ],
      "execution_count": null,
      "outputs": []
    },
    {
      "cell_type": "markdown",
      "metadata": {
        "id": "agpC1IRhHymQ"
      },
      "source": [
        "##Latent space vectors, encoder and decoder"
      ]
    },
    {
      "cell_type": "code",
      "metadata": {
        "id": "ZdLmTaqAjKEn"
      },
      "source": [
        "# Generate the latent representation vectors \n",
        "def sampling(args):\n",
        "    z_mean, z_log_sigma = args\n",
        "    epsilon = K.random_normal(shape=(batch_size, latent_dim),\n",
        "                              mean=0., stddev=epsilon_std)\n",
        "    return z_mean + K.exp(z_log_sigma) * epsilon"
      ],
      "execution_count": null,
      "outputs": []
    },
    {
      "cell_type": "code",
      "metadata": {
        "id": "3soogDl9x7Hu"
      },
      "source": [
        "# Encoder\n",
        "\n",
        "inputs = Input(shape = t_n_points, name='encoder_input')\n",
        "\n",
        "x = Dense(512, activation='tanh')(inputs)\n",
        "x = Reshape((512, 1))(x) \n",
        "x = Conv1D(8, 4, activation='tanh', padding='same')(x)\n",
        "x = Conv1D(8, 4, activation='tanh', padding='same')(x) \n",
        "x = MaxPooling1D(2, padding='same')(x)\n",
        "x = Conv1D(8, 4, activation='tanh', padding='same')(x) \n",
        "x = Conv1D(8, 4, activation='tanh', padding='same')(x)\n",
        "x = MaxPooling1D(2, padding='same')(x)\n",
        "x = Conv1D(8, 4, activation='tanh', padding='same')(x) \n",
        "x = Conv1D(8, 4, activation='tanh', padding='same')(x)\n",
        "x = MaxPooling1D(2, padding='same')(x)\n",
        "x = Conv1D(8, 4, activation='tanh', padding='same')(x) \n",
        "x = Conv1D(1, 4, activation='tanh', padding='same')(x)\n",
        "x = Flatten()(x)\n",
        "x = Dense(64, activation='tanh')(x)\n",
        "x = Dense(16, activation='tanh')(x)\n",
        "\n",
        "z_mean = Dense(latent_dim, name='z_mean')(x)\n",
        "z_log_var = Dense(latent_dim, name='z_log_var')(x)\n",
        "\n",
        "z = Lambda(sampling, output_shape=(latent_dim,), name='z')([z_mean, z_log_var])\n",
        "\n",
        "encoder = Model(inputs, [z_mean, z_log_var, z], name='encoder')\n",
        "\n",
        "print(encoder.summary())"
      ],
      "execution_count": null,
      "outputs": []
    },
    {
      "cell_type": "code",
      "metadata": {
        "id": "z6x7yH98bi-w"
      },
      "source": [
        "# Decoder\n",
        "\n",
        "latent_inputs = Input(shape=(latent_dim,), name='z_sampling')\n",
        "\n",
        "x = Dense(16, activation='tanh')(latent_inputs) \n",
        "x = Dense(64, activation='tanh')(x) \n",
        "x = Reshape((64, 1))(x)\n",
        "x = Conv1D(8, 4, activation='tanh', padding='same')(x)\n",
        "x = Conv1D(8, 4, activation='tanh', padding='same')(x)\n",
        "x = UpSampling1D(2)(x)\n",
        "x = Conv1D(8, 4, activation='tanh', padding='same')(x)\n",
        "x = Conv1D(8, 4, activation='tanh', padding='same')(x)\n",
        "x = UpSampling1D(2)(x)\n",
        "x = Conv1D(8, 4, activation='tanh', padding='same')(x)  \n",
        "x = Conv1D(8, 4, activation='tanh', padding='same')(x) \n",
        "x = UpSampling1D(2)(x)  \n",
        "x = Conv1D(8, 4, activation='tanh', padding='same')(x)                                                                      \n",
        "x = Conv1D(1, 4, activation='tanh', padding='same')(x)\n",
        "x = Flatten()(x)\n",
        "x = Dense(512, activation='tanh')(x) \n",
        "\n",
        "outputs = Dense(t_n_points, activation='tanh')(x)\n",
        "\n",
        "decoder = Model(latent_inputs, outputs, name='decoder')\n",
        "\n",
        "print(decoder.summary())"
      ],
      "execution_count": null,
      "outputs": []
    },
    {
      "cell_type": "code",
      "metadata": {
        "id": "WKxyQX7JmqCW"
      },
      "source": [
        "# build the model\n",
        "outputs = decoder(encoder(inputs)[2]) \n",
        "\n",
        "vae = Model(inputs, outputs, name='vae_mlp')"
      ],
      "execution_count": null,
      "outputs": []
    },
    {
      "cell_type": "code",
      "metadata": {
        "id": "ssl3Um6BnC6J"
      },
      "source": [
        "# loss function for VAE and compiling the model\n",
        "\n",
        "reconstruction_loss = mean_squared_error(inputs, outputs)\n",
        "\n",
        "reconstruction_loss *= t_n_points\n",
        "\n",
        "kl_loss = 1 + z_log_var - K.square(z_mean) - K.exp(z_log_var)\n",
        "\n",
        "kl_loss = K.sum(kl_loss, axis=-1)\n",
        "\n",
        "kl_loss *= -0.5\n",
        "\n",
        "vae_loss = K.mean(reconstruction_loss + kl_loss)\n",
        "\n",
        "vae.add_loss(vae_loss)\n",
        "\n",
        "opt = Adam(lr=0.0005, amsgrad=True)\n",
        "vae.compile(optimizer=opt)\n",
        "\n",
        "print(vae.summary())"
      ],
      "execution_count": null,
      "outputs": []
    },
    {
      "cell_type": "markdown",
      "metadata": {
        "id": "mYnV03kq3Iu4"
      },
      "source": [
        "##Training"
      ]
    },
    {
      "cell_type": "code",
      "metadata": {
        "id": "g-YmxUb-zw-O"
      },
      "source": [
        "def plot_losses2():\n",
        "    plt.figure(figsize=(8,4))\n",
        "    plt.plot(np.log10(loss),color='blue')\n",
        "    plt.plot(np.log10(val_loss),color='red')\n",
        "    plt.ylabel('log(Loss)', fontsize=12)\n",
        "    plt.xlabel('Epoch', fontsize=12)\n",
        "    plt.legend(['training', 'validation'], loc='upper right', fontsize=14)\n",
        "    plt.show()"
      ],
      "execution_count": null,
      "outputs": []
    },
    {
      "cell_type": "code",
      "metadata": {
        "id": "Wo1_3aee3Kwi"
      },
      "source": [
        "tic = time.perf_counter()\n",
        "\n",
        "history = vae.fit(y_train_norm, \n",
        "                epochs=200,\n",
        "                batch_size=batch_size,\n",
        "                shuffle=True,\n",
        "                validation_data=(y_test_norm, None))\n",
        "\n",
        "toc = time.perf_counter()\n",
        "print(f\"Execution time {toc - tic:0.4f} seconds\")\n",
        "\n",
        "path = f\"/auto_thetaI/model_2\" \n",
        "vae.save(path) \n",
        "\n",
        "path1 = f\"/auto_thetaI/encoder_2\" \n",
        "encoder.save(path1) \n",
        "\n",
        "path2 = f\"/auto_thetaI/decoder_2\" \n",
        "decoder.save(path2)\n",
        "\n",
        "loss = history.history['loss']\n",
        "val_loss = history.history['val_loss']\n",
        "\n",
        "plot_losses2()"
      ],
      "execution_count": null,
      "outputs": []
    },
    {
      "cell_type": "markdown",
      "metadata": {
        "id": "d6f4FpWW37J2"
      },
      "source": [
        "##Training and validation losses"
      ]
    },
    {
      "cell_type": "code",
      "metadata": {
        "id": "_C8eYWqNS2N_"
      },
      "source": [
        "plot_losses2() "
      ],
      "execution_count": null,
      "outputs": []
    },
    {
      "cell_type": "markdown",
      "metadata": {
        "id": "kLC4GdGEJ7Zb"
      },
      "source": [
        "##Prediction"
      ]
    },
    {
      "cell_type": "code",
      "metadata": {
        "id": "mrDGLoQRJ6yf"
      },
      "source": [
        "z_mean, _, _ = encoder.predict(y_test_norm, batch_size=batch_size)\n",
        "prediction_norm = decoder.predict(z_mean)\n",
        "prediction = prediction_norm * y_max"
      ],
      "execution_count": null,
      "outputs": []
    },
    {
      "cell_type": "markdown",
      "metadata": {
        "id": "tHAx6AaIvYzV"
      },
      "source": [
        "## Drawing the latent space"
      ]
    },
    {
      "cell_type": "code",
      "metadata": {
        "id": "zuLBAmZLvgYm"
      },
      "source": [
        "def plot_latent(z0, z1):\n",
        "    fig1 = plt.subplots(1,2,figsize=(12,4), constrained_layout=False)\n",
        "    plt.suptitle ('Colorbar wrt $theta$', fontsize=16)\n",
        "    plt.subplot(121)\n",
        "    plt.scatter(z0, z1, c = 90*param_test_norm[:,0], s=4, cmap='jet')\n",
        "    plt.colorbar()\n",
        "    plt.xlabel('$z_0$', fontsize=14)\n",
        "    plt.ylabel('$z_1$', fontsize=14)\n",
        "    plt.title('In Cartesian coordinates', fontsize=14)\n",
        "    plt.subplot(122)\n",
        "    plt.scatter(np.sqrt(z0**2+z1**2), np.arctan2(z1, z0), c = param_test_norm[:,0], s=4, cmap='jet')\n",
        "    plt.colorbar()\n",
        "    plt.xlabel('$r$', fontsize=14)\n",
        "    plt.ylabel(r'$\\theta$', fontsize=14)\n",
        "    plt.title('In polar coordinates', fontsize=14)\n",
        "\n",
        "    fig2 = plt.subplots(1,2,figsize=(12,4), constrained_layout=False)\n",
        "    plt.suptitle ('Colorbar wrt $Intensity$', fontsize=16)\n",
        "    plt.subplot(121)\n",
        "    plt.scatter(z0, z1, c = (3*param_test_norm[:,1]+1), s=2, cmap='viridis')\n",
        "    plt.colorbar()\n",
        "    plt.xlabel('$z_0$', fontsize=14)\n",
        "    plt.ylabel('$z_1$', fontsize=14)\n",
        "    plt.title('In Cartesian coordinates$', fontsize=14)\n",
        "    plt.subplot(122)\n",
        "    plt.scatter(np.sqrt(z0**2+z1**2), np.arctan2(z1, z0), c = param_test_norm[:,1], s=2, cmap='viridis')\n",
        "    plt.colorbar()\n",
        "    plt.xlabel('$r$', fontsize=14)\n",
        "    plt.ylabel(r'$\\theta$', fontsize=14)\n",
        "    plt.title('In polar coordinates', fontsize=14)\n",
        "    plt.show()  \n",
        "    plt.close()"
      ],
      "execution_count": null,
      "outputs": []
    },
    {
      "cell_type": "code",
      "metadata": {
        "id": "7yRkzQ-mxXhN"
      },
      "source": [
        "plot_latent(z_mean[:, 0], z_mean[:,1])"
      ],
      "execution_count": null,
      "outputs": []
    },
    {
      "cell_type": "markdown",
      "metadata": {
        "id": "m64VL92G4kby"
      },
      "source": [
        "##Function to draw the test and reconstructed examples"
      ]
    },
    {
      "cell_type": "code",
      "metadata": {
        "id": "IVsLubHm4nll"
      },
      "source": [
        "def plot_examples(i1, i2):    \n",
        "    fig = plt.subplots(2,1,figsize=(12,8),constrained_layout=False)\n",
        "    plt.suptitle('Examples: Test points and prediction', fontsize=16)\n",
        "    plt.subplot(211)\n",
        "    plt.title('theta = ' + str(round(param_test[i1,0]*180/PI,2)) + \", I = \" + str(round((param_test[i1,1]/5.338027e-2)**2,2)) + \"e14 W/cm^2\", fontsize=16)\n",
        "    plt.scatter(t_n, y_test[i1], color=\"blue\", s = 0.5)\n",
        "    plt.plot(t_n, prediction[i1], color=\"red\", linewidth = 1)\n",
        "    plt.ylabel('$d(t)$, a.u.', fontsize=16)\n",
        "    plt.xlim(0, 20)\n",
        "    plt.xticks(np.arange(0, Tmax, 2.0))\n",
        "    plt.grid()\n",
        "    plt.subplot(212)\n",
        "    plt.title('theta = ' + str(round(param_test[i2,0]*180/PI,2)) + \", I = \" + str(round((param_test[i2,1]/5.338027e-2)**2,2)) + \"e14 W/cm^2\", fontsize=16)\n",
        "    plt.scatter(t_n, y_test[i2], color=\"blue\", s = 0.5)\n",
        "    plt.plot(t_n, prediction[i2], color=\"red\", linewidth = 1)  \n",
        "    plt.ylabel('$d(t)$, a.u.', fontsize=16)\n",
        "    plt.xlabel('$t$, fs', fontsize=16)\n",
        "    plt.xlim(0, 20)\n",
        "    plt.xticks(np.arange(0, Tmax, 2.0))\n",
        "    plt.grid()  \n",
        "    plt.show() \n",
        "    plt.close() "
      ],
      "execution_count": null,
      "outputs": []
    },
    {
      "cell_type": "markdown",
      "metadata": {
        "id": "k3huTjKDc3M0"
      },
      "source": [
        "##Comparison of arbitrary $y_{test}$ (blue) and $y_{reconstructed}$ (red)"
      ]
    },
    {
      "cell_type": "code",
      "metadata": {
        "id": "7jd6MEey3bjO"
      },
      "source": [
        "i_show1 = np.random.randint(0, n_test-1)\n",
        "i_show2 = np.random.randint(0, n_test-1)\n",
        "\n",
        "plot_examples(i_show1, i_show2)"
      ],
      "execution_count": null,
      "outputs": []
    }
  ]
}