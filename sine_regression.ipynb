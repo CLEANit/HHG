{
  "nbformat": 4,
  "nbformat_minor": 0,
  "metadata": {
    "colab": {
      "name": "sine_regression.ipynb",
      "provenance": [],
      "collapsed_sections": [
        "oH4b3aaGabxv",
        "A00TL11RyHRk",
        "AGeoqHWjyLVp",
        "4DU7lcqDzMPs",
        "l_MPH6j5uGmW",
        "D6h_P5389Gx0",
        "mseUR256Nj9p",
        "ZCD_pvBqBQh6"
      ],
      "machine_shape": "hm"
    },
    "kernelspec": {
      "name": "python3",
      "display_name": "Python 3"
    },
    "accelerator": "GPU"
  },
  "cells": [
    {
      "cell_type": "markdown",
      "metadata": {
        "id": "hgyPCSMVT4dE"
      },
      "source": [
        "#M.Lytova, M.Spanner, I.Tamblyn. Deep learning and high harmonic generation (2020)\n",
        "##Codes for Section II.B : Regression model "
      ]
    },
    {
      "cell_type": "markdown",
      "metadata": {
        "id": "oH4b3aaGabxv"
      },
      "source": [
        "##Headers and constants"
      ]
    },
    {
      "cell_type": "code",
      "metadata": {
        "id": "JTQE-2nzHKPj"
      },
      "source": [
        "import numpy as np\n",
        "import tensorflow as tf\n",
        "from keras.layers import Input, Dense, Dropout\n",
        "from keras import backend as K\n",
        "from keras.models import Model\n",
        "from keras.optimizers import Adam, Nadam\n",
        "from keras import objectives\n",
        "from keras.losses import mean_squared_error\n",
        "from keras.callbacks import TensorBoard\n",
        "import argparse\n",
        "import matplotlib.pyplot as plt\n",
        "import time"
      ],
      "execution_count": null,
      "outputs": []
    },
    {
      "cell_type": "code",
      "metadata": {
        "id": "2r-mi7kh89JP"
      },
      "source": [
        "PI = 3.14159265359\n",
        "\n",
        "x_n_points = 512   # number of nodes in input layer\n",
        "x_n = np.linspace(0, 100, x_n_points) \n",
        "\n",
        "batch_size = 128\n",
        "\n",
        "n_train = 500000   \n",
        "n_test = 50000"
      ],
      "execution_count": null,
      "outputs": []
    },
    {
      "cell_type": "markdown",
      "metadata": {
        "id": "A00TL11RyHRk"
      },
      "source": [
        "##Training set generation"
      ]
    },
    {
      "cell_type": "code",
      "metadata": {
        "id": "3wkJQMcUT8wY"
      },
      "source": [
        "# Training set\n",
        "w0_train = np.random.rand(n_train,1)*0.5+0.5    # vector of random frequencies in [0.5, 1]\n",
        "y_train = np.sin(w0_train*x_n)"
      ],
      "execution_count": null,
      "outputs": []
    },
    {
      "cell_type": "markdown",
      "metadata": {
        "id": "AGeoqHWjyLVp"
      },
      "source": [
        "##Testing set generation"
      ]
    },
    {
      "cell_type": "code",
      "metadata": {
        "id": "etzDFbe8A0p9"
      },
      "source": [
        "# Testing set\n",
        "w0_test = np.random.rand(n_test,1)*0.5+0.5   # vector of random frequencies in [0.5, 1]\n",
        "y_test = (np.sin(w0_test*x_n))"
      ],
      "execution_count": null,
      "outputs": []
    },
    {
      "cell_type": "markdown",
      "metadata": {
        "id": "4DU7lcqDzMPs"
      },
      "source": [
        "##Model\n",
        "\n",
        "512$->$ 128 $->$ 64 $->$ 16 $->$ 1"
      ]
    },
    {
      "cell_type": "code",
      "metadata": {
        "id": "DN1W8yexDco_"
      },
      "source": [
        "inputs = Input(shape = (x_n_points,))\n",
        "\n",
        "x = Dense(128, activation='tanh')(inputs)\n",
        "x = Dense(64, activation='tanh')(x)\n",
        "x = Dense(16, activation='tanh')(x)\n",
        "\n",
        "outputs = Dense(1, activation='tanh')(x)\n",
        "\n",
        "ModelLam = Model(inputs, outputs)\n",
        "opt = Nadam(lr=0.0001)\n",
        "ModelLam.compile(optimizer=opt, loss='mean_squared_error') \n",
        "\n",
        "print(ModelLam.summary())"
      ],
      "execution_count": null,
      "outputs": []
    },
    {
      "cell_type": "markdown",
      "metadata": {
        "id": "l_MPH6j5uGmW"
      },
      "source": [
        "##Training"
      ]
    },
    {
      "cell_type": "code",
      "metadata": {
        "id": "-ucRHlxKfnpl"
      },
      "source": [
        "tic = time.perf_counter()\n",
        "\n",
        "history = ModelLam.fit(y_train, w0_train, \n",
        "                epochs=200,\n",
        "                batch_size=batch_size,\n",
        "                shuffle=True,\n",
        "                validation_data=(y_test, w0_test))\n",
        "\n",
        "toc = time.perf_counter()\n",
        "print(f\"Execution time {toc - tic:0.4f} seconds\")\n",
        "\n",
        "def plot_losses():\n",
        "    plt.figure(figsize=(8,4))\n",
        "    plt.plot(np.log10(history.history['loss']),color='blue')\n",
        "    plt.plot(np.log10(history.history['val_loss']),color='red')\n",
        "    plt.title('Model loss')\n",
        "    plt.ylabel('loss')\n",
        "    plt.xlabel('epoch')\n",
        "    plt.legend(['train', 'test'], loc='upper right')\n",
        "    plt.show()"
      ],
      "execution_count": null,
      "outputs": []
    },
    {
      "cell_type": "markdown",
      "metadata": {
        "id": "D6h_P5389Gx0"
      },
      "source": [
        "##Training and validation losses"
      ]
    },
    {
      "cell_type": "code",
      "metadata": {
        "id": "qXO0_QBChWRl"
      },
      "source": [
        "plot_losses()"
      ],
      "execution_count": null,
      "outputs": []
    },
    {
      "cell_type": "markdown",
      "metadata": {
        "id": "mseUR256Nj9p"
      },
      "source": [
        "##Prediction"
      ]
    },
    {
      "cell_type": "code",
      "metadata": {
        "id": "qefvJSL6NA8f"
      },
      "source": [
        "prediction = ModelLam.predict(y_test)"
      ],
      "execution_count": null,
      "outputs": []
    },
    {
      "cell_type": "markdown",
      "metadata": {
        "id": "ZCD_pvBqBQh6"
      },
      "source": [
        "##Predicted vs True"
      ]
    },
    {
      "cell_type": "code",
      "metadata": {
        "id": "7DqRpYJBBTQS"
      },
      "source": [
        "def plot_predict_true():\n",
        "    fig = plt.figure(figsize=(4,4),constrained_layout=False)\n",
        "    plt.scatter(w0_test[:,0], prediction[:,0], color=\"red\", s = 0.5)\n",
        "    plt.xlabel('True', fontsize=14)\n",
        "    plt.ylabel('Predicted', fontsize=14)\n",
        "    plt.grid()\n",
        "    plt.show() \n",
        "    plt.close()  \n",
        "\n",
        "plot_predict_true()      "
      ],
      "execution_count": null,
      "outputs": []
    }
  ]
}