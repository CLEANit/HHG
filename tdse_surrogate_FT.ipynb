{
  "nbformat": 4,
  "nbformat_minor": 0,
  "metadata": {
    "colab": {
      "name": "tdse_surrogate_FT.ipynb",
      "provenance": [],
      "collapsed_sections": [
        "oH4b3aaGabxv",
        "ezGtu0OjwAjH",
        "QtMuCwjz0Jfo",
        "uA1b3eq4102K",
        "agpC1IRhHymQ",
        "mYnV03kq3Iu4",
        "d6f4FpWW37J2",
        "kLC4GdGEJ7Zb",
        "m64VL92G4kby",
        "k3huTjKDc3M0"
      ]
    },
    "kernelspec": {
      "name": "python3",
      "display_name": "Python 3"
    }
  },
  "cells": [
    {
      "cell_type": "markdown",
      "metadata": {
        "id": "hgyPCSMVT4dE"
      },
      "source": [
        "# M.Lytova, M.Spanner, I.Tamblyn. *Deep learning and high harmonic generation* (2020)\n",
        "## Codes for Section IV.A.1 : *Symmetric diatomic molecule* (spectra)"
      ]
    },
    {
      "cell_type": "markdown",
      "metadata": {
        "id": "oH4b3aaGabxv"
      },
      "source": [
        "##Headers and constants"
      ]
    },
    {
      "cell_type": "code",
      "metadata": {
        "id": "JTQE-2nzHKPj"
      },
      "source": [
        "from google.colab import files\n",
        "import numpy as np\n",
        "import tensorflow as tf\n",
        "from keras.layers import Input, Dense, Dropout, Conv1D, MaxPooling1D, UpSampling1D, Flatten, Reshape\n",
        "from keras.models import Model\n",
        "from keras.optimizers import Nadam, Adam\n",
        "from tensorflow.keras import initializers\n",
        "from keras import objectives\n",
        "from keras.losses import mean_squared_error\n",
        "from keras.callbacks import TensorBoard\n",
        "from keras import backend as K\n",
        "import argparse\n",
        "import matplotlib.pyplot as plt\n",
        "import time"
      ],
      "execution_count": null,
      "outputs": []
    },
    {
      "cell_type": "code",
      "metadata": {
        "id": "2r-mi7kh89JP"
      },
      "source": [
        "PI = 3.14159265359\n",
        "\n",
        "w_n_points = 1024   # number of nodes in frequency\n",
        "path2load = f\"/hhg_fft2/omega.dat\"\n",
        "load_w = np.loadtxt(path2load)\n",
        "w_n = load_w[0:w_n_points]      # grid in frequency\n",
        "\n",
        "n_train = 30000     # training set size\n",
        "n_test = 1000       # testing set size"
      ],
      "execution_count": null,
      "outputs": []
    },
    {
      "cell_type": "markdown",
      "metadata": {
        "id": "ezGtu0OjwAjH"
      },
      "source": [
        "##Loading a training set"
      ]
    },
    {
      "cell_type": "code",
      "metadata": {
        "id": "HhJPHsfMYcNf"
      },
      "source": [
        "param_train = np.zeros((n_train, 3))\n",
        "path2param = f\"/hhg_fft2/param.dat\"\n",
        "param_train = np.loadtxt(path2param, delimiter = \",\", max_rows = n_train) "
      ],
      "execution_count": null,
      "outputs": []
    },
    {
      "cell_type": "code",
      "metadata": {
        "id": "etzDFbe8A0p9"
      },
      "source": [
        "y_train = np.zeros((n_train, w_n_points))\n",
        "path2load0 = f\"/hhg_fft2/hhg\"\n",
        "\n",
        "tic = time.perf_counter()\n",
        "\n",
        "for i in range(n_train): \n",
        "    path2load = path2load0 + str(i+1) + '.dat'    \n",
        "    load_data = np.loadtxt(path2load)\n",
        "    y_train[i] = load_data[0:w_n_points]\n",
        "    if (round(i/1000)==i/1000):\n",
        "        print(i)        \n",
        "\n",
        "toc = time.perf_counter()\n",
        "print(f\"Training set preparation time {toc - tic:0.4f} seconds\")   "
      ],
      "execution_count": null,
      "outputs": []
    },
    {
      "cell_type": "code",
      "metadata": {
        "id": "hJXdG-BnVjUJ"
      },
      "source": [
        "def plot_train_example(i1, i2):\n",
        "    plt.figure(figsize=(20,10), constrained_layout=False)   \n",
        "    plt.subplot(211)  \n",
        "    plt.title('theta = ' + str(round(param_train[i1,0]*180/PI,2)) + \",  R = \" + str(round(param_train[i1,1],2)) + \\\n",
        "              \"a.u. , I = \" + str(round((param_train[i1,2]/5.338027e-2)**2,2)) + \"e14 W/cm^2\", fontsize=16)   \n",
        "    plt.plot(w_n, np.log10(y_train[i1]), color='green')\n",
        "    plt.xlabel('$\\omega/\\omega_0$', fontsize=14)\n",
        "    plt.ylabel('$S(\\omega)$', fontsize=14)\n",
        "    plt.xticks(np.arange(1, Wmax, 2.0))\n",
        "    plt.grid()\n",
        "    plt.subplot(212)\n",
        "    plt.title('theta = ' + str(round(param_train[i2,0]*180/PI,2)) + \",  R = \" + str(round(param_train[i2,1],2)) + \\\n",
        "              \"a.u. , I = \" + str(round((param_train[i2,2]/5.338027e-2)**2,2)) + \"e14 W/cm^2\", fontsize=16)\n",
        "    plt.plot(w_n, np.log10(y_train[i2]), color='green')\n",
        "    plt.xlabel('$\\omega/\\omega_0$', fontsize=14)\n",
        "    plt.ylabel('$S(\\omega)$', fontsize=14)\n",
        "    plt.xticks(np.arange(1, Wmax, 2.0))   \n",
        "    plt.grid()    \n",
        "    plt.show() \n",
        "    plt.close()"
      ],
      "execution_count": null,
      "outputs": []
    },
    {
      "cell_type": "markdown",
      "metadata": {
        "id": "-8tw4ybjIlzF"
      },
      "source": [
        "### Drawing of a randomly chosen $S_k(\\omega)$"
      ]
    },
    {
      "cell_type": "code",
      "metadata": {
        "id": "H1JYBzPLWWUP"
      },
      "source": [
        "i_show1 = np.random.randint(0, n_train-1)\n",
        "i_show2 = np.random.randint(0, n_train-1)\n",
        "\n",
        "plot_train_example(i_show1, i_show2)"
      ],
      "execution_count": null,
      "outputs": []
    },
    {
      "cell_type": "markdown",
      "metadata": {
        "id": "QtMuCwjz0Jfo"
      },
      "source": [
        "##Loading a testing set"
      ]
    },
    {
      "cell_type": "code",
      "metadata": {
        "id": "wAJh4b3NbY63"
      },
      "source": [
        "param_test = np.zeros((n_test, 3))\n",
        "path2param = f\"/hhg_fft2/param.dat\"\n",
        "param_test = np.loadtxt(path2param, delimiter = \",\", skiprows = n_train, max_rows = n_test) "
      ],
      "execution_count": null,
      "outputs": []
    },
    {
      "cell_type": "code",
      "metadata": {
        "id": "-gbEt-EtcEUp"
      },
      "source": [
        "y_test = np.zeros((n_test, w_n_points))\n",
        "path2load0 = f\"/hhg_fft2/hhg\"\n",
        "\n",
        "for i in range(n_test): \n",
        "    path2load = path2load0 + str(i+1+n_train) + '.dat'    \n",
        "    load_data = np.loadtxt(path2load)\n",
        "    y_test[i] = load_data[0:w_n_points]      "
      ],
      "execution_count": null,
      "outputs": []
    },
    {
      "cell_type": "markdown",
      "metadata": {
        "id": "uA1b3eq4102K"
      },
      "source": [
        "##Normalizing before training"
      ]
    },
    {
      "cell_type": "code",
      "metadata": {
        "id": "p3qAooRD14WC"
      },
      "source": [
        "max_E0 = np.amax(param_train[:,2])\n",
        "min_E0 = np.amin(param_train[:,2])\n",
        "param_train_norm = (param_train-[0, 1.5, min_E0])/[PI/2, 2.5, (max_E0-min_E0)]\n",
        "param_test_norm = (param_test-[0, 1.5, min_E0])/[PI/2, 2.5, (max_E0-min_E0)]\n",
        "\n",
        "w_n_half = int(3*w_n_points/4)\n",
        "s_min =  1e-16\n",
        "\n",
        "y_train_aux = np.log10(y_train[:,0:w_n_half]/s_min)\n",
        "s_max = 16 \n",
        "\n",
        "y_train_norm = np.zeros((n_train, w_n_half))\n",
        "y_test_norm = np.zeros((n_test, w_n_half))\n",
        "\n",
        "y_train_norm = y_train_aux/s_max\n",
        "y_test_norm = np.log10(y_test[:,0:w_n_half]/s_min)/s_max"
      ],
      "execution_count": null,
      "outputs": []
    },
    {
      "cell_type": "code",
      "metadata": {
        "id": "y5wmUv5QfyBs"
      },
      "source": [
        "def plot_train_norm_example(i1,i2):\n",
        "    plt.figure(figsize=(20,10), constrained_layout=False)       \n",
        "    plt.subplot(211)  \n",
        "    plt.title('theta = ' + str(round(param_train[i1,0]*180/PI,2)) + \",  R = \" + str(round(param_train[i1,1],2)) + \\\n",
        "              \"a.u. , I = \" + str(round((param_train[i1,2]/5.338027e-2)**2,2)) + \"e14 W/cm^2\", fontsize=16)\n",
        "    plt.plot(w_n[0:w_n_half], y_train_norm[i1], color='green')\n",
        "    plt.xlabel('$\\omega/\\omega_0$', fontsize=14)\n",
        "    plt.xlim((0, 70))\n",
        "    plt.ylim((0, 1))\n",
        "    plt.ylabel('$S(\\omega)$', fontsize=14)\n",
        "    plt.xticks(np.arange(1, 3*Wmax/4, 2.0))\n",
        "    plt.grid()\n",
        "    plt.subplot(212)\n",
        "    plt.title('theta = ' + str(round(param_train[i2,0]*180/PI,2)) + \",  R = \" + str(round(param_train[i2,1],2)) + \\\n",
        "              \"a.u. , I = \" + str(round((param_train[i2,2]/5.338027e-2)**2,2)) + \"e14 W/cm^2\", fontsize=16)\n",
        "    plt.plot(w_n[0:w_n_half], y_train_norm[i2], color='green')\n",
        "    plt.xlabel('$\\omega/\\omega_0$', fontsize=14)\n",
        "    plt.xlim((0, 70))\n",
        "    plt.ylim((0, 1))    \n",
        "    plt.ylabel('$\\phi(\\omega)$', fontsize=14)\n",
        "    plt.xticks(np.arange(1, 3*Wmax/4, 2.0))   \n",
        "    plt.grid()    \n",
        "    plt.show() \n",
        "    plt.close()"
      ],
      "execution_count": null,
      "outputs": []
    },
    {
      "cell_type": "code",
      "metadata": {
        "id": "X7V5EmAMgyTB"
      },
      "source": [
        "i_show1 = np.random.randint(0, n_train-1)\n",
        "i_show2 = np.random.randint(0, n_train-1)\n",
        "plot_train_norm_example(i_show1,i_show2)"
      ],
      "execution_count": null,
      "outputs": []
    },
    {
      "cell_type": "markdown",
      "metadata": {
        "id": "agpC1IRhHymQ"
      },
      "source": [
        "## Model"
      ]
    },
    {
      "cell_type": "code",
      "metadata": {
        "id": "z6x7yH98bi-w"
      },
      "source": [
        "inputs = Input(shape=(3,))\n",
        "\n",
        "x = Dense(16, activation='softplus')(inputs) \n",
        "x = Dense(32, activation='softplus')(x)                  \n",
        "x = Reshape((32, 1))(x)\n",
        "x = Conv1D(8, 4, activation='softplus', padding='same')(x)\n",
        "x = Conv1D(8, 4, activation='softplus', padding='same')(x)\n",
        "x = UpSampling1D(2)(x)\n",
        "x = Conv1D(8, 4, activation='softplus', padding='same')(x)\n",
        "x = Conv1D(8, 4, activation='softplus', padding='same')(x)\n",
        "x = UpSampling1D(2)(x)\n",
        "x = Conv1D(4, 4, activation='softplus', padding='same')(x) \n",
        "x = Conv1D(2, 4, activation='softplus', padding='same')(x)\n",
        "x = Flatten()(x)\n",
        "x = Dense(256, activation='softplus')(x)\n",
        "outputs = Dense(w_n_half, activation='softplus')(x)\n",
        "\n",
        "ModelGen = Model(inputs, outputs)\n",
        "opt = Adam(lr=0.0005, amsgrad=True)\n",
        "ModelGen.compile(optimizer=opt, loss='mean_squared_error') \n",
        "\n",
        "print(ModelGen.summary())"
      ],
      "execution_count": null,
      "outputs": []
    },
    {
      "cell_type": "markdown",
      "metadata": {
        "id": "mYnV03kq3Iu4"
      },
      "source": [
        "##Training\n",
        "\n",
        "*   Training set: 30,000\n",
        "*   Testing set: 1,000"
      ]
    },
    {
      "cell_type": "code",
      "metadata": {
        "id": "g-YmxUb-zw-O"
      },
      "source": [
        "def plot_losses2():\n",
        "    plt.figure(figsize=(8,4))\n",
        "    plt.plot(np.log10(loss_sum),color='blue')\n",
        "    plt.plot(np.log10(val_loss_sum),color='red')\n",
        "    plt.title('Model loss')\n",
        "    plt.ylabel('loss')\n",
        "    plt.xlabel('epoch')\n",
        "    plt.legend(['training', 'validation'], loc='upper right')\n",
        "    plt.show()"
      ],
      "execution_count": null,
      "outputs": []
    },
    {
      "cell_type": "code",
      "metadata": {
        "id": "Wo1_3aee3Kwi"
      },
      "source": [
        "tic = time.perf_counter()\n",
        "\n",
        "for n in range(3, 10):       # training in a cycle with increasing batch size\n",
        "\n",
        "      batch_size = 2**n\n",
        "\n",
        "      history = ModelGen.fit(param_train_norm, y_train_norm, \n",
        "                             epochs=50,\n",
        "                             batch_size=batch_size,\n",
        "                             shuffle=True,\n",
        "                             validation_data=(param_test_norm, y_test_norm))\n",
        "      \n",
        "      path = F\"/model_thetaRI_FT/model_2\" \n",
        "      ModelGen.save(path) \n",
        "\n",
        "      loss_save = history.history['loss']\n",
        "      val_loss_save = history.history['val_loss']\n",
        "      if n > 3:\n",
        "            loss_sum = np.concatenate((loss_sum, loss_save), axis = 0)\n",
        "            val_loss_sum = np.concatenate((val_loss_sum, val_loss_save), axis = 0)\n",
        "      else:\n",
        "            loss_sum = loss_save\n",
        "            val_loss_sum = val_loss_save          \n",
        "      \n",
        "      plot_losses2()\n",
        "\n",
        "\n",
        "toc = time.perf_counter()\n",
        "print(f\"Execution time {toc - tic:0.4f} seconds\")\n",
        "    "
      ],
      "execution_count": null,
      "outputs": []
    },
    {
      "cell_type": "markdown",
      "metadata": {
        "id": "d6f4FpWW37J2"
      },
      "source": [
        "##Training and validation losses"
      ]
    },
    {
      "cell_type": "code",
      "metadata": {
        "id": "e13ORMaQzSj9"
      },
      "source": [
        "plot_losses2()  "
      ],
      "execution_count": null,
      "outputs": []
    },
    {
      "cell_type": "markdown",
      "metadata": {
        "id": "kLC4GdGEJ7Zb"
      },
      "source": [
        "##Prediction"
      ]
    },
    {
      "cell_type": "code",
      "metadata": {
        "id": "mrDGLoQRJ6yf"
      },
      "source": [
        "prediction_norm = ModelGen.predict(param_test_norm)\n",
        "prediction = s_max*prediction_norm"
      ],
      "execution_count": null,
      "outputs": []
    },
    {
      "cell_type": "markdown",
      "metadata": {
        "id": "m64VL92G4kby"
      },
      "source": [
        "##Function to draw the test and predicted examples"
      ]
    },
    {
      "cell_type": "code",
      "metadata": {
        "id": "IVsLubHm4nll"
      },
      "source": [
        "def plot_examples(i1,i2):\n",
        "    fig = plt.subplots(2,1,figsize=(12,9),constrained_layout=False)    \n",
        "    plt.subplot(211)\n",
        "    plt.title('Examples: Test points and prediction for parameters theta = ' + str(round(param_test[i1,0]*180/PI,2)) + \",  R = \" + str(round(param_test[i1,1],2)) + \\\n",
        "             \"a.u., I = \" + str(round((param_test[i1,2]/5.338027e-2)**2,2)) + \"e14 W/cm^2\", fontsize=16)\n",
        "    plt.plot(w_n, np.log10(y_test[i1]), color=\"blue\", linewidth = 1)\n",
        "    plt.plot(w_n[0:w_n_half], prediction[i1]+np.log10(s_min), color=\"red\", linewidth = 1)\n",
        "    plt.ylabel('$log(S(\\omega))$', fontsize=16)\n",
        "    plt.xticks(np.arange(0, 3*Wmax/4, 4.0))\n",
        "    plt.xlim((0,100))\n",
        "    plt.ylim((-16, -3))\n",
        "    plt.grid()\n",
        "    plt.subplot(212)\n",
        "    plt.title('Examples: Test points and prediction for parameters theta = ' + str(round(param_test[i2,0]*180/PI,2)) + \",  R = \" + str(round(param_test[i2,1],2)) + \\\n",
        "             \"a.u., I = \" + str(round((param_test[i2,2]/5.338027e-2)**2,2)) + \"e14 W/cm^2\", fontsize=16)\n",
        "    plt.plot(w_n, np.log10(y_test[i2]), color=\"blue\", linewidth = 1)\n",
        "    plt.plot(w_n[0:w_n_half], prediction[i2]+np.log10(s_min), color=\"red\", linewidth = 1) \n",
        "    plt.ylabel('$log(S(\\omega))$', fontsize=16)\n",
        "    plt.xlabel('$\\omega/\\omega_0$', fontsize=16) \n",
        "    plt.xticks(np.arange(0, 3*Wmax/4, 4.0))\n",
        "    plt.xlim((0,100))\n",
        "    plt.ylim((-16, -3))\n",
        "    plt.grid()  \n",
        "    plt.show() \n",
        "    plt.close()    "
      ],
      "execution_count": null,
      "outputs": []
    },
    {
      "cell_type": "markdown",
      "metadata": {
        "id": "k3huTjKDc3M0"
      },
      "source": [
        "##Comparison of arbitrary $test$ (blue) and $decoded$ (red) curves"
      ]
    },
    {
      "cell_type": "code",
      "metadata": {
        "id": "7jd6MEey3bjO"
      },
      "source": [
        "i_show1 = np.random.randint(0, n_test-1)\n",
        "i_show2 = np.random.randint(0, n_test-1)\n",
        "plot_examples(i_show1, i_show2)"
      ],
      "execution_count": null,
      "outputs": []
    }
  ]
}