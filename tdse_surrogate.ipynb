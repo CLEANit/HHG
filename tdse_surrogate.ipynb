{
  "nbformat": 4,
  "nbformat_minor": 0,
  "metadata": {
    "colab": {
      "name": "tdse_surrogate.ipynb",
      "provenance": [],
      "collapsed_sections": [
        "oH4b3aaGabxv",
        "ezGtu0OjwAjH",
        "QtMuCwjz0Jfo",
        "uA1b3eq4102K",
        "agpC1IRhHymQ",
        "mYnV03kq3Iu4",
        "d6f4FpWW37J2",
        "kLC4GdGEJ7Zb",
        "m64VL92G4kby",
        "k3huTjKDc3M0"
      ],
      "machine_shape": "hm"
    },
    "kernelspec": {
      "name": "python3",
      "display_name": "Python 3"
    },
    "accelerator": "GPU"
  },
  "cells": [
    {
      "cell_type": "markdown",
      "metadata": {
        "id": "hgyPCSMVT4dE"
      },
      "source": [
        "# M.Lytova, M.Spanner, I.Tamblyn. *Deep learning and high harmonic generation* (2020)\n",
        "## Codes for Section IV.A.1 : *Symmetric diatomic molecule*"
      ]
    },
    {
      "cell_type": "markdown",
      "metadata": {
        "id": "oH4b3aaGabxv"
      },
      "source": [
        "##Headers and constants"
      ]
    },
    {
      "cell_type": "code",
      "metadata": {
        "id": "JTQE-2nzHKPj"
      },
      "source": [
        "from google.colab import files\n",
        "import numpy as np\n",
        "import tensorflow as tf\n",
        "from keras.layers import Input, Dense, Dropout, Conv1D, MaxPooling1D, UpSampling1D, Flatten, Reshape\n",
        "from keras.models import Model\n",
        "from keras.optimizers import Nadam, Adam\n",
        "from tensorflow.keras import initializers\n",
        "from keras import objectives\n",
        "from keras.losses import mean_squared_error\n",
        "from keras.callbacks import TensorBoard\n",
        "from keras import backend as K\n",
        "import argparse\n",
        "import matplotlib.pyplot as plt\n",
        "import time"
      ],
      "execution_count": null,
      "outputs": []
    },
    {
      "cell_type": "code",
      "metadata": {
        "id": "2r-mi7kh89JP"
      },
      "source": [
        "PI = 3.14159265359\n",
        "\n",
        "t_n_points = 4096   # number of nodes in time\n",
        "t_n = np.linspace(0, 800, t_n_points)/41.341    # grid in time, Tmax = 800 a.u. = 19.35 fs\n",
        "\n",
        "n_train = 30000   # training set size\n",
        "n_test = 1000     # testing set size"
      ],
      "execution_count": null,
      "outputs": []
    },
    {
      "cell_type": "markdown",
      "metadata": {
        "id": "ezGtu0OjwAjH"
      },
      "source": [
        "##Loading a training set"
      ]
    },
    {
      "cell_type": "code",
      "metadata": {
        "id": "HhJPHsfMYcNf"
      },
      "source": [
        "param_train = np.zeros((n_train, 3))\n",
        "path2param = f\"/hhg_reduced/param.dat\"\n",
        "param_train = np.loadtxt(path2param, delimiter = \",\", max_rows = n_train) "
      ],
      "execution_count": null,
      "outputs": []
    },
    {
      "cell_type": "code",
      "metadata": {
        "id": "etzDFbe8A0p9"
      },
      "source": [
        "y_train = np.zeros((n_train, t_n_points))\n",
        "path2load0 = f\"/hhg_reduced/hhg\"\n",
        "\n",
        "tic = time.perf_counter()\n",
        "\n",
        "for i in range(n_train): \n",
        "    path2load = path2load0 + str(i+1) + '.dat'    \n",
        "    load_data = np.loadtxt(path2load)\n",
        "    y_train[i] = load_data[0:t_n_points] * np.sin(PI*t_n/Tmax) \n",
        "    if (round(i/1000)==i/1000):\n",
        "        print(i)        \n",
        "\n",
        "toc = time.perf_counter()\n",
        "print(f\"Training set preparation time {toc - tic:0.4f} seconds\")   "
      ],
      "execution_count": null,
      "outputs": []
    },
    {
      "cell_type": "code",
      "metadata": {
        "id": "WOXyAC5-kkQC"
      },
      "source": [
        "def plot_train_example(i):\n",
        "    plt.figure(figsize=(16,5), constrained_layout=False)    \n",
        "    plt.plot(t_n, y_train[i], color='green')\n",
        "    plt.xlim(0, 20)\n",
        "    plt.xticks(np.arange(0, 20, 2.0))\n",
        "    plt.grid()\n",
        "    plt.show() \n",
        "    plt.close()"
      ],
      "execution_count": null,
      "outputs": []
    },
    {
      "cell_type": "markdown",
      "metadata": {
        "id": "tVTgjnXQCNt5"
      },
      "source": [
        "### Drawing of a randomly chosen $d_k(t)$"
      ]
    },
    {
      "cell_type": "code",
      "metadata": {
        "id": "hJXdG-BnVjUJ"
      },
      "source": [
        "def plot_train_example(i):\n",
        "    plt.figure(figsize=(12,4), constrained_layout=False)    \n",
        "    plt.plot(t_n, y_train[i], color='green')\n",
        "    plt.title('theta = ' + str(round(param_train[i,0]*180/PI,2)) + \",  R = \" + str(round(param_train[i,1],2)) + \\\n",
        "              \"a.u. , I = \" + str(round((param_train[i,2]/5.338027e-2)**2,2)) + \"e14 W/cm^2\", fontsize=16)\n",
        "    plt.xlabel('$t$', fontsize=14)\n",
        "    plt.ylabel('$y(t)$', fontsize=14)\n",
        "    plt.xticks(np.arange(0, Tmax, 2.0))\n",
        "    plt.grid()    \n",
        "    plt.show() \n",
        "    plt.close()"
      ],
      "execution_count": null,
      "outputs": []
    },
    {
      "cell_type": "code",
      "metadata": {
        "id": "H1JYBzPLWWUP"
      },
      "source": [
        "i_show = np.random.randint(0, n_train-1)\n",
        "\n",
        "plot_train_example(i_show)"
      ],
      "execution_count": null,
      "outputs": []
    },
    {
      "cell_type": "markdown",
      "metadata": {
        "id": "QtMuCwjz0Jfo"
      },
      "source": [
        "##Loading a testing set"
      ]
    },
    {
      "cell_type": "code",
      "metadata": {
        "id": "wAJh4b3NbY63"
      },
      "source": [
        "param_test = np.zeros((n_test, 3))\n",
        "path2param = f\"/hhg_reduced/param.dat\"\n",
        "param_test = np.loadtxt(path2param, delimiter = \",\", skiprows = n_train, max_rows = n_test) "
      ],
      "execution_count": null,
      "outputs": []
    },
    {
      "cell_type": "code",
      "metadata": {
        "id": "-gbEt-EtcEUp"
      },
      "source": [
        "y_test = np.zeros((n_test, t_n_points))\n",
        "path2load0 = f\"/hhg_reduced/hhg\"\n",
        "\n",
        "for i in range(n_test): \n",
        "    path2load = path2load0 + str(i+1+n_train) + '.dat'    \n",
        "    load_data = np.loadtxt(path2load)\n",
        "    y_test[i] = load_data[0:t_n_points] * np.sin(PI*t_n/Tmax) \n",
        "   "
      ],
      "execution_count": null,
      "outputs": []
    },
    {
      "cell_type": "markdown",
      "metadata": {
        "id": "uA1b3eq4102K"
      },
      "source": [
        "##Normalizing before training"
      ]
    },
    {
      "cell_type": "code",
      "metadata": {
        "id": "p3qAooRD14WC"
      },
      "source": [
        "max_E0 = np.amax(param_train[:,2])\n",
        "min_E0 = np.amin(param_train[:,2])\n",
        "param_train_norm = (param_train-[0, 1.5, min_E0])/[PI/2, 2.5, (max_E0-min_E0)]\n",
        "param_test_norm = (param_test-[0, 1.5, min_E0])/[PI/2, 2.5, (max_E0-min_E0)]\n",
        "y_max = 0.3 \n",
        "y_train_norm = y_train/y_max\n",
        "y_test_norm = y_test/y_max"
      ],
      "execution_count": null,
      "outputs": []
    },
    {
      "cell_type": "markdown",
      "metadata": {
        "id": "agpC1IRhHymQ"
      },
      "source": [
        "## Model"
      ]
    },
    {
      "cell_type": "code",
      "metadata": {
        "id": "z6x7yH98bi-w"
      },
      "source": [
        "inputs = Input(shape=(3,))\n",
        "\n",
        "x = Dense(16, activation='tanh')(inputs) \n",
        "x = Dense(64, activation='tanh')(x) \n",
        "x = Reshape((64, 1))(x)\n",
        "x = Conv1D(8, 4, activation='tanh', padding='same')(x)\n",
        "x = Conv1D(8, 4, activation='tanh', padding='same')(x)\n",
        "x = UpSampling1D(2)(x)\n",
        "x = Conv1D(8, 4, activation='tanh', padding='same')(x)\n",
        "x = Conv1D(8, 4, activation='tanh', padding='same')(x)\n",
        "x = UpSampling1D(2)(x)\n",
        "x = Conv1D(8, 4, activation='tanh', padding='same')(x)  \n",
        "x = Conv1D(8, 4, activation='tanh', padding='same')(x) \n",
        "x = UpSampling1D(2)(x)  \n",
        "x = Conv1D(8, 4, activation='tanh', padding='same')(x)                                                                      \n",
        "x = Conv1D(1, 4, activation='tanh', padding='same')(x)\n",
        "x = Flatten()(x)\n",
        "x = Dense(512, activation='tanh')(x) \n",
        "outputs = Dense(t_n_points, activation='tanh')(x)\n",
        "\n",
        "ModelGen = Model(inputs, outputs)\n",
        "opt = Adam(lr=0.0005, amsgrad=True)\n",
        "ModelGen.compile(optimizer=opt, loss='mean_squared_error') \n",
        "\n",
        "print(ModelGen.summary())"
      ],
      "execution_count": null,
      "outputs": []
    },
    {
      "cell_type": "markdown",
      "metadata": {
        "id": "mYnV03kq3Iu4"
      },
      "source": [
        "##Training\n",
        "\n",
        "*   Training set: 30,000\n",
        "*   Testing set: 1,000"
      ]
    },
    {
      "cell_type": "code",
      "metadata": {
        "id": "g-YmxUb-zw-O"
      },
      "source": [
        "def plot_losses2():\n",
        "    plt.figure(figsize=(8,4))\n",
        "    plt.plot(np.log10(loss_sum),color='blue')\n",
        "    plt.plot(np.log10(val_loss_sum),color='red')\n",
        "    plt.ylabel('loss')\n",
        "    plt.xlabel('epoch')\n",
        "    plt.legend(['training', 'validation'], loc='upper right')\n",
        "    plt.show()"
      ],
      "execution_count": null,
      "outputs": []
    },
    {
      "cell_type": "code",
      "metadata": {
        "id": "Wo1_3aee3Kwi"
      },
      "source": [
        "tic = time.perf_counter()\n",
        "\n",
        "for n in range(3, 10):        # training in a cycle with increasing batch size  \n",
        "\n",
        "      batch_size = 2**n       \n",
        "\n",
        "      history = ModelGen.fit(param_train_norm, y_train_norm, \n",
        "                             epochs=300,\n",
        "                             batch_size=batch_size,\n",
        "                             shuffle=True,\n",
        "                             validation_data=(param_test_norm, y_test_norm))\n",
        "      \n",
        "      path = f\"/model_thetaRI/model_1\" \n",
        "      ModelGen.save(path) \n",
        "\n",
        "      loss_save = history.history['loss']\n",
        "      val_loss_save = history.history['val_loss']\n",
        "      if n > 3:\n",
        "            loss_sum = np.concatenate((loss_sum, loss_save), axis = 0)\n",
        "            val_loss_sum = np.concatenate((val_loss_sum, val_loss_save), axis = 0)\n",
        "      else:\n",
        "            loss_sum = loss_save\n",
        "            val_loss_sum = val_loss_save           \n",
        "      \n",
        "      plot_losses2()\n",
        "\n",
        "toc = time.perf_counter()\n",
        "print(f\"Execution time {toc - tic:0.4f} seconds\")\n",
        "    "
      ],
      "execution_count": null,
      "outputs": []
    },
    {
      "cell_type": "markdown",
      "metadata": {
        "id": "d6f4FpWW37J2"
      },
      "source": [
        "##Training and validation losses"
      ]
    },
    {
      "cell_type": "code",
      "metadata": {
        "id": "Phb9pSL_ZuoN"
      },
      "source": [
        "plot_losses2()  "
      ],
      "execution_count": null,
      "outputs": []
    },
    {
      "cell_type": "markdown",
      "metadata": {
        "id": "kLC4GdGEJ7Zb"
      },
      "source": [
        "##Prediction"
      ]
    },
    {
      "cell_type": "code",
      "metadata": {
        "id": "mrDGLoQRJ6yf"
      },
      "source": [
        "prediction = y_max*ModelGen.predict(param_test_norm)"
      ],
      "execution_count": null,
      "outputs": []
    },
    {
      "cell_type": "markdown",
      "metadata": {
        "id": "m64VL92G4kby"
      },
      "source": [
        "##Function to draw the test and predicted examples"
      ]
    },
    {
      "cell_type": "code",
      "metadata": {
        "id": "IVsLubHm4nll"
      },
      "source": [
        "def plot_examples(i1, i2):    \n",
        "    fig = plt.subplots(2,1,figsize=(12,8),constrained_layout=False)\n",
        "    plt.suptitle('Examples: Test points and prediction', fontsize=16)\n",
        "    plt.subplot(211)\n",
        "    plt.title('theta = ' + str(round(param_test[i1,0]*180/PI,2)) + \",  R = \" + str(round(param_test[i1,1],2)) + \\\n",
        "              \"a.u., I = \" + str(round((param_test[i1,2]/5.338027e-2)**2,2)) + \"e14 W/cm^2\", fontsize=16)\n",
        "    plt.scatter(t_n, y_test[i1], color=\"blue\", s = 0.5)\n",
        "    plt.plot(t_n, prediction[i1], color=\"red\", linewidth = 1)\n",
        "    plt.ylabel('$d(t)$, a.u.', fontsize=16)\n",
        "    plt.xlim(0, 20)\n",
        "    plt.xticks(np.arange(0, Tmax, 2.0))\n",
        "    plt.grid()\n",
        "    plt.subplot(212)\n",
        "    plt.title('theta = ' + str(round(param_test[i2,0]*180/PI,2)) + \",  R = \" + str(round(param_test[i2,1],2))  + \\\n",
        "              \"a.u., I = \" + str(round((param_test[i2,2]/5.338027e-2)**2,2)) + \"e14 W/cm^2\", fontsize=16)\n",
        "    plt.scatter(t_n, y_test[i2], color=\"blue\", s = 0.5)\n",
        "    plt.plot(t_n, prediction[i2], color=\"red\", linewidth = 1)  \n",
        "    plt.ylabel('$d(t)$, a.u.', fontsize=16)\n",
        "    plt.xlabel('$t$, fs', fontsize=16)\n",
        "    plt.xlim(0, 20)\n",
        "    plt.xticks(np.arange(0, Tmax, 2.0))\n",
        "    plt.grid()  \n",
        "    plt.show() \n",
        "    plt.close()    "
      ],
      "execution_count": null,
      "outputs": []
    },
    {
      "cell_type": "markdown",
      "metadata": {
        "id": "k3huTjKDc3M0"
      },
      "source": [
        "##Comparison of arbitrary $y_{test}$ (blue) and $y_{decoded}$ (red)"
      ]
    },
    {
      "cell_type": "code",
      "metadata": {
        "id": "7jd6MEey3bjO"
      },
      "source": [
        "i_show1 = np.random.randint(0, n_test-1)\n",
        "i_show2 = np.random.randint(0, n_test-1)\n",
        "\n",
        "plot_examples(i_show1, i_show2)"
      ],
      "execution_count": null,
      "outputs": []
    }
  ]
}